{
 "cells": [
  {
   "cell_type": "markdown",
   "id": "42747d4d",
   "metadata": {},
   "source": [
    "# ЛАБОРАТОРНАЯ РАБОТА №1."
   ]
  },
  {
   "cell_type": "markdown",
   "id": "e6a7bbc4",
   "metadata": {},
   "source": [
    "## ИТЕРАЦИОННЫЕ МЕТОДЫ. РЕШЕНИЯ НЕЛИНЕЙНЫХ УРАВНЕНИЙ."
   ]
  },
  {
   "cell_type": "markdown",
   "id": "c40b2c6c",
   "metadata": {},
   "source": [
    "### Графический метод"
   ]
  },
  {
   "cell_type": "markdown",
   "id": "550f0847",
   "metadata": {},
   "source": [
    "Для построения графика, давайте сначала определим функцию, которую мы будем рисовать. В данном случае у нас есть нелинейное уравнение:\n",
    "\n",
    "$e^x + x^2 - 2 = 0$"
   ]
  },
  {
   "cell_type": "code",
   "execution_count": 1,
   "id": "779624c9",
   "metadata": {},
   "outputs": [
    {
     "data": {
      "image/png": "[encoded data removed]",
      "text/plain": [
       "<Figure size 640x480 with 1 Axes>"
      ]
     },
     "metadata": {},
     "output_type": "display_data"
    }
   ],
   "source": [
    "import numpy as np\n",
    "import matplotlib.pyplot as plt\n",
    "import math\n",
    "\n",
    "# Задаем функцию f(x)\n",
    "def f(x):\n",
    "    return np.exp(x) + x**2 - 2\n",
    "\n",
    "# Задаем отрезок [0, 0.6] и создаем массив точек на этом отрезке\n",
    "x = np.linspace(0, 0.6, 100)\n",
    "\n",
    "# Строим график функции на отрезке [0, 0.6]\n",
    "plt.plot(x, f(x), color='blue', linewidth=1.1, label='f(x)')  # добавляем метку \"f(x)\" для графика функции\n",
    "plt.axhline(y=0, color='k', lw=0.5)  # добавляем горизонтальную ось x=0\n",
    "plt.axvline(x=0, color='k', lw=0.5) # добавляем вертикальную ось y=0\n",
    "plt.xlabel('x')\n",
    "plt.ylabel('f(x)')\n",
    "plt.title('График функции: f(x) = e^x + x^2 - 2')\n",
    "plt.grid(True)\n",
    "plt.legend()  \n",
    "plt.show()"
   ]
  },
  {
   "cell_type": "markdown",
   "id": "56683491",
   "metadata": {},
   "source": [
    "### Аналитический метод"
   ]
  },
  {
   "cell_type": "markdown",
   "id": "d7bd71b2",
   "metadata": {},
   "source": [
    "Для доказательства единственности корня уравнения $e^x + x^2 - 2 = 0$ на отрезке $[0, 0.6]$, воспользуемся теоремой о единственности корня уравнения на отрезке.\n",
    "\n",
    "Теорема о единственности корня уравнения на отрезке гласит: Если на концах отрезка $[a, b]$ функция $f(x)$ непрерывна и знаки $f(a)$ и $f(b)$ различны, то уравнение $f(x) = 0$ имеет на отрезке $[a, b]$ хотя бы один корень, причем единственный.\n",
    "\n",
    "В нашем случае, функция $f(x) = e^x + x^2 - 2$ является непрерывной на отрезке $[0, 0.6]$, так как она является суммой непрерывных функций. Проверим знаки $f(0)$ и $f(0.6)$:\n",
    "\n",
    "$f(0) = e^0 + 0^2 - 2 = -1 < 0$\n",
    "\n",
    "$f(0.6) = 0.182... > 0$\n",
    "\n",
    "Знаки $f(0)$ и $f(0.6)$ различны, следовательно, по теореме о единственности корня, на отрезке $[0, 0.6]$ уравнение $e^x + x^2 - 2 = 0$ имеет единственный корень.\n",
    "\n",
    "Таким образом, мы доказали аналитическим методом единственность корня исходного нелинейного уравнения на указанном отрезке."
   ]
  },
  {
   "cell_type": "markdown",
   "id": "48d98535",
   "metadata": {},
   "source": [
    "### Программная реализация методов"
   ]
  },
  {
   "cell_type": "code",
   "execution_count": 2,
   "id": "5f710c49",
   "metadata": {},
   "outputs": [],
   "source": [
    "def equation(x):\n",
    "    return math.exp(x) + pow(x, 2) - 2\n",
    "\n",
    "def derivative(x):\n",
    "    return math.exp(x) + 2 * x\n",
    "\n",
    "x_curr = 0.6\n",
    "c = -0.1\n",
    "epsilon = 0.001\n",
    "delta = 0.01"
   ]
  },
  {
   "cell_type": "markdown",
   "id": "704e2fd2",
   "metadata": {},
   "source": [
    "### Метод простых итераций"
   ]
  },
  {
   "cell_type": "code",
   "execution_count": 3,
   "id": "7199c9b4",
   "metadata": {},
   "outputs": [],
   "source": [
    "def simple_iterations_method(x_curr, c, epsilon, delta):\n",
    "    n = 0\n",
    "    print(\"|{:^5}|{:^12}|{:^12}|{:^14}|{:^14}|\".format(\"n\", \"x(n)\", \"x(n+1)\", \"|x(n+1)-x(n)|\", \"|f(x(n+1))|\"))\n",
    "    while True:\n",
    "        x_next = x_curr + c * equation(x_curr)\n",
    "        abs_error = abs(x_next - x_curr)\n",
    "        func_val = abs(equation(x_next))\n",
    "        print(\"|{:^5}|{:^12.5f}|{:^12.5f}|{:^14.5f}|{:^14.5f}|\".format(n, x_curr, x_next, abs_error, func_val))\n",
    "        n += 1\n",
    "        if abs_error <= epsilon and func_val <= delta:\n",
    "            break\n",
    "        x_curr = x_next"
   ]
  },
  {
   "cell_type": "code",
   "execution_count": 4,
   "id": "c5f026c4",
   "metadata": {},
   "outputs": [
    {
     "name": "stdout",
     "output_type": "stream",
     "text": [
      "|  n  |    x(n)    |   x(n+1)   ||x(n+1)-x(n)| | |f(x(n+1))|  |\n",
      "|  0  |  0.60000   |  0.58179   |   0.01821    |   0.12771    |\n",
      "|  1  |  0.58179   |  0.56902   |   0.01277    |   0.09031    |\n",
      "|  2  |  0.56902   |  0.55999   |   0.00903    |   0.06423    |\n",
      "|  3  |  0.55999   |  0.55356   |   0.00642    |   0.04587    |\n",
      "|  4  |  0.55356   |  0.54898   |   0.00459    |   0.03285    |\n",
      "|  5  |  0.54898   |  0.54569   |   0.00329    |   0.02358    |\n",
      "|  6  |  0.54569   |  0.54333   |   0.00236    |   0.01695    |\n",
      "|  7  |  0.54333   |  0.54164   |   0.00169    |   0.01219    |\n",
      "|  8  |  0.54164   |  0.54042   |   0.00122    |   0.00878    |\n",
      "|  9  |  0.54042   |  0.53954   |   0.00088    |   0.00632    |\n"
     ]
    }
   ],
   "source": [
    "simple_iterations_method(x_curr, c, epsilon, delta)"
   ]
  },
  {
   "cell_type": "markdown",
   "id": "adea6f3b",
   "metadata": {},
   "source": [
    "### Метод Ньютона"
   ]
  },
  {
   "cell_type": "code",
   "execution_count": 5,
   "id": "88f0468b",
   "metadata": {},
   "outputs": [],
   "source": [
    "def newton_method(x_curr, epsilon, delta):\n",
    "    n = 0\n",
    "    print(\"|{:^5}|{:^12}|{:^12}|{:^14}|{:^14}|\".format(\"n\", \"x(n)\", \"x(n+1)\", \"|x(n+1)-x(n)|\", \"|f(x(n+1))|\"))\n",
    "    while True:\n",
    "        x_next = x_curr - (equation(x_curr))/(derivative(x_curr))\n",
    "        abs_error = abs(x_next - x_curr)\n",
    "        func_val = abs(equation(x_next))\n",
    "        print(\"|{:^5}|{:^12.5f}|{:^12.5f}|{:^14.5f}|{:^14.5f}|\".format(n, x_curr, x_next, abs_error, func_val))\n",
    "        n += 1\n",
    "        if abs_error <= epsilon and func_val <= delta:\n",
    "            break\n",
    "        x_curr = x_next"
   ]
  },
  {
   "cell_type": "code",
   "execution_count": 6,
   "id": "cec27cb5",
   "metadata": {},
   "outputs": [
    {
     "name": "stdout",
     "output_type": "stream",
     "text": [
      "|  n  |    x(n)    |   x(n+1)   ||x(n+1)-x(n)| | |f(x(n+1))|  |\n",
      "|  0  |  0.60000   |  0.53974   |   0.06026    |   0.00687    |\n",
      "|  1  |  0.53974   |  0.53728   |   0.00246    |   0.00001    |\n",
      "|  2  |  0.53728   |  0.53727   |   0.00000    |   0.00000    |\n"
     ]
    }
   ],
   "source": [
    "newton_method(x_curr, epsilon, delta)"
   ]
  },
  {
   "cell_type": "markdown",
   "id": "ab9bd719",
   "metadata": {},
   "source": [
    "### Модифицированный метод Ньютона"
   ]
  },
  {
   "cell_type": "code",
   "execution_count": 7,
   "id": "87c313c3",
   "metadata": {},
   "outputs": [],
   "source": [
    "def modified_newton_method(x_curr, epsilon, delta):\n",
    "    x0 = x_curr\n",
    "    n = 0\n",
    "    print(\"|{:^5}|{:^12}|{:^12}|{:^14}|{:^14}|\".format(\"n\", \"x(n)\", \"x(n+1)\", \"|x(n+1)-x(n)|\", \"|f(x(n+1))|\"))\n",
    "    while True:\n",
    "        x_next = x_curr - (equation(x_curr))/(derivative(x0))\n",
    "        abs_error = abs(x_next - x_curr)\n",
    "        func_val = abs(equation(x_next))\n",
    "        print(\"|{:^5}|{:^12.5f}|{:^12.5f}|{:^14.5f}|{:^14.5f}|\".format(n, x_curr, x_next, abs_error, func_val))\n",
    "        n += 1\n",
    "        if abs_error <= epsilon and func_val <= delta:\n",
    "            break\n",
    "        x_curr = x_next"
   ]
  },
  {
   "cell_type": "code",
   "execution_count": 8,
   "id": "fc9347fe",
   "metadata": {},
   "outputs": [
    {
     "name": "stdout",
     "output_type": "stream",
     "text": [
      "|  n  |    x(n)    |   x(n+1)   ||x(n+1)-x(n)| | |f(x(n+1))|  |\n",
      "|  0  |  0.60000   |  0.53974   |   0.06026    |   0.00687    |\n",
      "|  1  |  0.53974   |  0.53746   |   0.00227    |   0.00053    |\n",
      "|  2  |  0.53746   |  0.53729   |   0.00017    |   0.00004    |\n"
     ]
    }
   ],
   "source": [
    "modified_newton_method(x_curr, epsilon, delta)"
   ]
  },
  {
   "cell_type": "markdown",
   "id": "94497f0c",
   "metadata": {},
   "source": [
    "### Выводы"
   ]
  },
  {
   "cell_type": "markdown",
   "id": "b3fbfc95",
   "metadata": {},
   "source": [
    "После изменения $ε = ε / 10; δ = δ / 10$ и повторного решения задачи можно сделать следующие выводы о скорости сходимости рассматриваемых методов:\n",
    "\n",
    "1. Метод Ньютона продолжает сходиться быстрее всего. Поскольку этот метод использует информацию о производных функции, он может адаптироваться к изменению точности решения, сохраняя высокую скорость сходимости.\n",
    "\n",
    "2. Модифицированный метод Ньютона также продолжает сходиться быстро, но несколько медленнее, чем метод Ньютона.\n",
    "\n",
    "3. Метод простых итераций продолжает сходиться медленнее всех. Это связано с тем, что он не использует информацию о производных функции, и его скорость сходимости зависит только от выбора начального приближения и точности решения.\n",
    "\n",
    "Относительно влияния точности на скорость сходимости, можно отметить, что уменьшение $ε$ и $δ$ приводит к увеличению числа итераций для достижения той же точности решения. Однако методы Ньютона и модифицированного метода Ньютона продолжают сходиться быстрее, чем метод простых итераций, независимо от выбранных значений $ε$ и $δ$."
   ]
  }
 ],
 "metadata": {
  "kernelspec": {
   "display_name": "Python 3 (ipykernel)",
   "language": "python",
   "name": "python3"
  },
  "language_info": {
   "codemirror_mode": {
    "name": "ipython",
    "version": 3
   },
   "file_extension": ".py",
   "mimetype": "text/x-python",
   "name": "python",
   "nbconvert_exporter": "python",
   "pygments_lexer": "ipython3",
   "version": "3.9.13"
  }
 },
 "nbformat": 4,
 "nbformat_minor": 5
}
